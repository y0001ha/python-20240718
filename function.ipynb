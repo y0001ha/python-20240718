{
 "cells": [
  {
   "cell_type": "markdown",
   "metadata": {},
   "source": [
    "##### 함수 : 실행할 코드를 미리 지정해두고 사용하는 것\n",
    "```python\n",
    "def 함수명(매개변수, ...):\n",
    "    실행할 구문\n",
    "    return 반환값\n",
    "```"
   ]
  },
  {
   "cell_type": "code",
   "execution_count": 3,
   "metadata": {},
   "outputs": [],
   "source": [
    "def check(number):\n",
    "    # 삼항연산자\n",
    "    # 다른 언어들 - 조건 ? 참일때결과 : 거짓일때결과\n",
    "    # 파이썬 - 참일때결과 if 조건 else 거짓일때결과\n",
    "    result = '짝수' if (number % 2 == 0) else '홀수'\n",
    "    return result"
   ]
  },
  {
   "cell_type": "code",
   "execution_count": 4,
   "metadata": {},
   "outputs": [
    {
     "data": {
      "text/plain": [
       "'홀수'"
      ]
     },
     "execution_count": 4,
     "metadata": {},
     "output_type": "execute_result"
    }
   ],
   "source": [
    "check(5)"
   ]
  },
  {
   "cell_type": "markdown",
   "metadata": {},
   "source": [
    "##### 파이썬에서 함수의 반환값은 여러개를 반환할 수 있음\n",
    "```python\n",
    "def 함수명(매개변수, ...):\n",
    "    실행할 구문\n",
    "    return 반환값1, 반환값2\n",
    "````"
   ]
  },
  {
   "cell_type": "code",
   "execution_count": 7,
   "metadata": {},
   "outputs": [],
   "source": [
    "def calc(a,b):\n",
    "    plus = a + b\n",
    "    minus = a - b\n",
    "    return plus, minus"
   ]
  },
  {
   "cell_type": "code",
   "execution_count": 8,
   "metadata": {},
   "outputs": [
    {
     "data": {
      "text/plain": [
       "(11, -1)"
      ]
     },
     "execution_count": 8,
     "metadata": {},
     "output_type": "execute_result"
    }
   ],
   "source": [
    "calc(5,6)"
   ]
  },
  {
   "cell_type": "code",
   "execution_count": 9,
   "metadata": {},
   "outputs": [
    {
     "data": {
      "text/plain": [
       "11"
      ]
     },
     "execution_count": 9,
     "metadata": {},
     "output_type": "execute_result"
    }
   ],
   "source": [
    "result1, result2 = calc(5,6)\n",
    "result1  # 값은 하나든 두개든 따로든 받을 수 있음"
   ]
  },
  {
   "cell_type": "markdown",
   "metadata": {},
   "source": [
    "### 람다함수\n",
    "이름없이 선언하여 바로 사용하는 함수  \n",
    "함수를 변수에 담아서 사용하는 용도로도 사용됨\n",
    "```python\n",
    "lambda 매개변수: 반환할 표현식\n",
    "```\n",
    "파이썬에서는 람다함수의 실행코드는 여러줄 작성 불가능"
   ]
  },
  {
   "cell_type": "code",
   "execution_count": 14,
   "metadata": {},
   "outputs": [],
   "source": [
    "# lambda number: '짝수' if (number % 2 == 0) else '홀수'  -->> 함수로 그냥 뜸\n",
    "check2 = lambda number: '짝수' if (number % 2 == 0) else '홀수'"
   ]
  },
  {
   "cell_type": "code",
   "execution_count": 16,
   "metadata": {},
   "outputs": [
    {
     "data": {
      "text/plain": [
       "'짝수'"
      ]
     },
     "execution_count": 16,
     "metadata": {},
     "output_type": "execute_result"
    }
   ],
   "source": [
    "check2(6)"
   ]
  },
  {
   "cell_type": "code",
   "execution_count": 17,
   "metadata": {},
   "outputs": [],
   "source": [
    "def calc1(a, b, func):\n",
    "    x = a + b\n",
    "    y = a - b\n",
    "    z = func(a, b)\n",
    "    return x + y + z"
   ]
  },
  {
   "cell_type": "code",
   "execution_count": 18,
   "metadata": {},
   "outputs": [
    {
     "data": {
      "text/plain": [
       "6"
      ]
     },
     "execution_count": 18,
     "metadata": {},
     "output_type": "execute_result"
    }
   ],
   "source": [
    "calc1(2, 1, lambda a, b: a * b)   # 중간에 특정한 연산을 호출할 때 외부에서 값을 받아서 사용하고 싶을때 람다식"
   ]
  }
 ],
 "metadata": {
  "kernelspec": {
   "display_name": "Python 3",
   "language": "python",
   "name": "python3"
  },
  "language_info": {
   "codemirror_mode": {
    "name": "ipython",
    "version": 3
   },
   "file_extension": ".py",
   "mimetype": "text/x-python",
   "name": "python",
   "nbconvert_exporter": "python",
   "pygments_lexer": "ipython3",
   "version": "3.12.4"
  }
 },
 "nbformat": 4,
 "nbformat_minor": 2
}
