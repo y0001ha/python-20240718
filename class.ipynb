{
 "cells": [
  {
   "cell_type": "markdown",
   "metadata": {},
   "source": [
    "### 클래스\n",
    "객체에 대한 정의\n",
    "같은 속성 혹은 기능의 집합\n",
    "```python\n",
    "class 클래스명():\n",
    "    def __init__(self, 매개변수1, 매개변수2, ...):\n",
    "        self.속성1 = 속성값 # 여기서 속성을 정의\n",
    "        ...\n",
    "\n",
    "    def 메서드명(self):\n",
    "        ...\n",
    "```"
   ]
  },
  {
   "cell_type": "code",
   "execution_count": 2,
   "metadata": {},
   "outputs": [],
   "source": [
    "class Human():\n",
    "    def __init__(self, name, age):   #__init__ 은 생성자\n",
    "        self.name = name\n",
    "        self.age = age\n",
    "\n",
    "    def greet(self):\n",
    "        print(f'{self.name}이 인사를 합니다.')\n",
    "    "
   ]
  },
  {
   "cell_type": "markdown",
   "metadata": {},
   "source": [
    "##### 클래스의 인스턴스 생성\n",
    "```python\n",
    "변수 = 클래스명(매개변수, ...)\n",
    "```"
   ]
  },
  {
   "cell_type": "code",
   "execution_count": 4,
   "metadata": {},
   "outputs": [],
   "source": [
    "human1 = Human('홍길동', 20)"
   ]
  },
  {
   "cell_type": "code",
   "execution_count": 5,
   "metadata": {},
   "outputs": [
    {
     "data": {
      "text/plain": [
       "'홍길동'"
      ]
     },
     "execution_count": 5,
     "metadata": {},
     "output_type": "execute_result"
    }
   ],
   "source": [
    "human1.name"
   ]
  },
  {
   "cell_type": "code",
   "execution_count": 6,
   "metadata": {},
   "outputs": [
    {
     "name": "stdout",
     "output_type": "stream",
     "text": [
      "홍길동이 인사를 합니다.\n"
     ]
    }
   ],
   "source": [
    "human1.greet()"
   ]
  },
  {
   "cell_type": "markdown",
   "metadata": {},
   "source": [
    "##### 클래스 상속\n",
    "이미 정의된 클래스를 재사용하는 기법  \n",
    "코드 재사용성을 높여서 코드 중복 제거, 유지보수성을 향상\n",
    "```python\n",
    "class 클래스명(부모클래스):\n",
    "    def__init__(self, 매개변수...):\n",
    "       super(자식클래스명, self).__init__(매개변수...)\n",
    "       ...\n",
    "```"
   ]
  },
  {
   "cell_type": "code",
   "execution_count": 8,
   "metadata": {},
   "outputs": [],
   "source": [
    "class SalesMan(Human):\n",
    "    def __init__(self, name, age):\n",
    "        super(SalesMan, self).__init__(name, age)\n",
    "        self.sales = 0\n",
    "\n",
    "    def sale(self):\n",
    "        print(f'{self.name}이 {self.sales} 만큼 매출했습니다.')"
   ]
  },
  {
   "cell_type": "code",
   "execution_count": 9,
   "metadata": {},
   "outputs": [],
   "source": [
    "salesMan1 = SalesMan('이성계', 56)"
   ]
  },
  {
   "cell_type": "code",
   "execution_count": 10,
   "metadata": {},
   "outputs": [
    {
     "data": {
      "text/plain": [
       "'이성계'"
      ]
     },
     "execution_count": 10,
     "metadata": {},
     "output_type": "execute_result"
    }
   ],
   "source": [
    "salesMan1.name"
   ]
  },
  {
   "cell_type": "code",
   "execution_count": 11,
   "metadata": {},
   "outputs": [
    {
     "name": "stdout",
     "output_type": "stream",
     "text": [
      "이성계이 인사를 합니다.\n"
     ]
    }
   ],
   "source": [
    "salesMan1.greet()"
   ]
  },
  {
   "cell_type": "code",
   "execution_count": 12,
   "metadata": {},
   "outputs": [
    {
     "data": {
      "text/plain": [
       "0"
      ]
     },
     "execution_count": 12,
     "metadata": {},
     "output_type": "execute_result"
    }
   ],
   "source": [
    "salesMan1.sales"
   ]
  },
  {
   "cell_type": "code",
   "execution_count": 13,
   "metadata": {},
   "outputs": [
    {
     "name": "stdout",
     "output_type": "stream",
     "text": [
      "이성계이 0 만큼 매출했습니다.\n"
     ]
    }
   ],
   "source": [
    "salesMan1.sale()"
   ]
  },
  {
   "cell_type": "code",
   "execution_count": null,
   "metadata": {},
   "outputs": [],
   "source": []
  }
 ],
 "metadata": {
  "kernelspec": {
   "display_name": "Python 3",
   "language": "python",
   "name": "python3"
  },
  "language_info": {
   "codemirror_mode": {
    "name": "ipython",
    "version": 3
   },
   "file_extension": ".py",
   "mimetype": "text/x-python",
   "name": "python",
   "nbconvert_exporter": "python",
   "pygments_lexer": "ipython3",
   "version": "3.12.4"
  }
 },
 "nbformat": 4,
 "nbformat_minor": 2
}
